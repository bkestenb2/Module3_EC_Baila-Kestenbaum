{
  "cells": [
    {
      "cell_type": "markdown",
      "id": "cd91769c",
      "metadata": {
        "id": "cd91769c"
      },
      "source": [
        "\n",
        "# MCON 141 — Class 3 Homework\n",
        "\n",
        "Welcome! 🌟 This homework is designed to help you feel confident with **decision structures** and **boolean logic**.  \n",
        "You’ll use `if / elif / else`, nested `if` where helpful, and the operators `and`, `or`, and `not`.  \n",
        "We’re **not** using loops yet (`while`, `for`) — everything here can be done with straight‑line code.\n",
        "\n",
        "Additionally, although I am giving you this homework within Jupyter, feel free to work on this in an IDE such as IDLE or PyCharm, and submit the answers here.\n",
        "\n",
        "### How to approach this set\n",
        "- Work one problem at a time. Run your cell, read the output, and refine.\n",
        "- Be kind to yourself — it’s normal to try, run, and adjust as you go.\n",
        "- When taking user input, please **validate it** with `try/except` and use `raise ValueError` for out‑of‑range or invalid options.\n",
        "- Use f‑strings for friendly, clear messages (e.g., `print(f\"Final price: ${price:.2f}\")`).\n",
        "\n",
        "If you get stuck, read the **gentle hints** included after many prompts. You’ve got this! 💪\n"
      ]
    },
    {
      "cell_type": "markdown",
      "id": "6af8aabf",
      "metadata": {
        "id": "6af8aabf"
      },
      "source": [
        "\n",
        "**Validation rules (for all problems)**  \n",
        "- If a numeric input is not a number → handle with `except ValueError`.\n",
        "- If a numeric input is outside the allowed range → `raise ValueError(\"...\")` and handle it.\n",
        "- If a text input isn’t one of the allowed choices (e.g., `y/n`, or `mon..sun`) → `raise ValueError(\"expected ...\")` and handle it.\n",
        "- Normalize text inputs with `.strip().lower()`.\n"
      ]
    },
    {
      "cell_type": "markdown",
      "id": "ba273b62",
      "metadata": {
        "id": "ba273b62"
      },
      "source": [
        "\n",
        "## 1) Free shipping gate\n",
        "\n",
        "**Prompt**  \n",
        "Ask for **order_total** (float) and **membership** (`\"y\"` / `\"n\"`).  \n",
        "Free shipping rules:  \n",
        "- Free if `order_total >= 60` **or** membership is `\"y\"` **and** `order_total >= 40`.  \n",
        "- Otherwise, no free shipping.\n",
        "\n",
        "**Your task**  \n",
        "- Validate inputs (see rules above).  \n",
        "- Print exactly `\"Free shipping\"` or `\"No free shipping\"`.  \n",
        "\n",
        "*Gentle hint:* It can help to create a boolean like `is_member = (membership == \"y\")` before your `if`.\n"
      ]
    },
    {
      "cell_type": "code",
      "execution_count": 27,
      "id": "d9d440a9",
      "metadata": {
        "colab": {
          "base_uri": "https://localhost:8080/"
        },
        "id": "d9d440a9",
        "outputId": "e9cc1265-415a-4efc-8ffc-a0dd5e11249a"
      },
      "outputs": [
        {
          "output_type": "stream",
          "name": "stdout",
          "text": [
            "what is your order total? 67\n",
            "are you a member(y/n)? n\n",
            "Free shipping\n"
          ]
        }
      ],
      "source": [
        "# YOUR CODE HERE\n",
        "try:\n",
        "  order_total_str = input(\"what is your order total? \")\n",
        "  order_total = float(order_total_str) # Expecting a float\n",
        "  membership = input(\"are you a member(y/n)? \").strip().lower() # Normalize input\n",
        "\n",
        "  if membership not in [\"y\", \"n\"]:\n",
        "      raise ValueError(\"membership must be 'y' or 'n'\")\n",
        "\n",
        "  # Free shipping rules:\n",
        "  # Free if order_total >= 60 or membership is \"y\" and order_total >= 40.\n",
        "  # Otherwise, no free shipping.\n",
        "  if order_total >= 60 or (membership == \"y\" and order_total >= 40):\n",
        "    print(\"Free shipping\")\n",
        "  else:\n",
        "    print(\"No free shipping\")\n",
        "\n",
        "except ValueError:\n",
        "  print(\"Invalid input\")\n",
        "\n",
        "# 1) Read inputs (order_total, membership) with validation.\n",
        "# 2) Decide based on the rule; print the exact message."
      ]
    },
    {
      "cell_type": "markdown",
      "id": "2b6be3c3",
      "metadata": {
        "id": "2b6be3c3"
      },
      "source": [
        "\n",
        "## 2) Triangle validity & type\n",
        "\n",
        "**Prompt**  \n",
        "Ask for three side lengths **a**, **b**, **c** (floats).  \n",
        "- First, validate that all are **> 0**.  \n",
        "- Then check triangle inequality: `a + b > c`, `a + c > b`, `b + c > a`.  \n",
        "  - If invalid → print `\"Not a triangle\"` and stop.  \n",
        "- If valid, print **exactly one** of: `\"Equilateral\"`, `\"Isosceles\"`, `\"Scalene\"`.\n",
        "\n",
        "**Your task**  \n",
        "- Validate numeric conversion and positivity.  \n",
        "- Implement the checks carefully and choose exactly one type to print.\n",
        "\n",
        "*Gentle hint:* Check validity first; only classify if valid.\n",
        "\n",
        "**Support for triangles **\n",
        "\n",
        "A triangle is Equilateral if All three sides are equal:\n",
        "a == b == c\n",
        "\n",
        "Isosceles : Exactly two sides are equal:\n",
        "(a == b or a == c or b == c) but not all three equal\n",
        "\n",
        "Scalene : All three sides are different:\n",
        "a != b and a != c and b != c\n",
        "\n",
        "\n"
      ]
    },
    {
      "cell_type": "code",
      "execution_count": 28,
      "id": "61ea08e9",
      "metadata": {
        "colab": {
          "base_uri": "https://localhost:8080/"
        },
        "id": "61ea08e9",
        "outputId": "39ee2a81-f7e5-4cb1-bf12-f7b7272a2fe5"
      },
      "outputs": [
        {
          "output_type": "stream",
          "name": "stdout",
          "text": [
            "Enter the length of side a: 24\n",
            "Enter the length of side b: 53\n",
            "Enter the length of side c: 4\n",
            "Scalene\n"
          ]
        }
      ],
      "source": [
        "\n",
        "# YOUR CODE HERE\n",
        "try:\n",
        "# 1) Inputs a, b, c with validation\n",
        "  a = float(input(\"Enter the length of side a: \"))\n",
        "  b = float(input(\"Enter the length of side b: \"))\n",
        "  c = float(input(\"Enter the length of side c: \"))\n",
        "# 2) If invalid -> print(\"Not a triangle\")\n",
        "  if a <= 0 or b <= 0 or c <= 0:\n",
        "    print(\"Not a triangle\")\n",
        "# 3) Else -> choose exactly one triangle type\n",
        "  elif a == b == c:\n",
        "    print(\"Equilateral\")\n",
        "  elif a == b or a == c or b == c:\n",
        "    print(\"Isosceles\")\n",
        "  else:\n",
        "    print(\"Scalene\")\n",
        "\n",
        "except ValueError:\n",
        "  print(\"Invalid input\")\n"
      ]
    },
    {
      "cell_type": "markdown",
      "id": "38d6cf49",
      "metadata": {
        "id": "38d6cf49"
      },
      "source": [
        "\n",
        "## 3) Library access hours with membership override\n",
        "\n",
        "**Prompt**  \n",
        "Ask for **hour** (int, 0–23) and **member** (`\"y\"`/`\"n\"`).  \n",
        "- Open to **everyone** from 9–20 inclusive.  \n",
        "- Open to **members only** at hours 7–8 and 21–22.  \n",
        "- Otherwise, **Closed**.\n",
        "\n",
        "**Your task**  \n",
        "- Validate inputs.  \n",
        "- Print **exactly one** of: `\"Open to all\"`, `\"Open to members\"`, `\"Closed\"`.\n",
        "\n",
        "*Gentle hint:* Think of this as a small decision tree. Check the “open to all” window first.\n"
      ]
    },
    {
      "cell_type": "code",
      "execution_count": 29,
      "id": "ea753771",
      "metadata": {
        "colab": {
          "base_uri": "https://localhost:8080/"
        },
        "id": "ea753771",
        "outputId": "722f3307-0f06-4f20-f67e-95d767b58ac2"
      },
      "outputs": [
        {
          "output_type": "stream",
          "name": "stdout",
          "text": [
            "Enter the hour: 23\n",
            "Are you a member(y/n)? n\n",
            "Closed\n"
          ]
        }
      ],
      "source": [
        "\n",
        "# YOUR CODE HERE\n",
        "try:\n",
        "  hour = int(input(\"Enter the hour: \"))\n",
        "  member = input(\"Are you a member(y/n)? \").strip().lower()\n",
        "# 1) Validate hour and member\n",
        "  if hour < 0 or hour > 23:\n",
        "    raise ValueError(\"Hour must be between 0 and 23\")\n",
        "  if member not in [\"y\", \"n\"]:\n",
        "    raise ValueError(\"Member must be 'y' or 'n'\")\n",
        "# 2) Decide and print one of the three messages\n",
        "  if hour >= 9 and hour <= 20:\n",
        "    print(\"Open to all\")\n",
        "  elif hour >= 7 and hour <= 8 or hour >= 21 and hour <= 22:\n",
        "    print(\"Open to members\")\n",
        "  else:\n",
        "    print(\"Closed\")\n",
        "\n",
        "except ValueError:\n",
        "  print(\"Invalid input\")\n"
      ]
    },
    {
      "cell_type": "markdown",
      "id": "bbd08bb4",
      "metadata": {
        "id": "bbd08bb4"
      },
      "source": [
        "\n",
        "## 4) Temperature banding\n",
        "\n",
        "**Prompt**  \n",
        "Ask for **temp** (int) and categorize into exactly one label:  \n",
        "- `temp <= 0` → `\"Freezing\"`  \n",
        "- `1–15` → `\"Cold\"`  \n",
        "- `16–25` → `\"Mild\"`  \n",
        "- `26–32` → `\"Warm\"`  \n",
        "- `>= 33` → `\"Hot\"`\n",
        "\n",
        "**Your task**  \n",
        "- Validate integer input.  \n",
        "- Make sure **only one** label is printed.\n",
        "\n",
        "*Gentle hint:* Use `elif` to avoid overlapping outputs.\n"
      ]
    },
    {
      "cell_type": "code",
      "execution_count": 30,
      "id": "5986f534",
      "metadata": {
        "colab": {
          "base_uri": "https://localhost:8080/"
        },
        "id": "5986f534",
        "outputId": "a4ee78de-c413-45c4-ee5e-21064efacff8"
      },
      "outputs": [
        {
          "output_type": "stream",
          "name": "stdout",
          "text": [
            "Enter the temperature: 18\n",
            "Mild\n"
          ]
        }
      ],
      "source": [
        "\n",
        "# YOUR CODE HERE\n",
        "try:\n",
        "  temp = int(input(\"Enter the temperature: \"))\n",
        "# 1) Validate temp (int)\n",
        "# 2) Choose exactly one label to print\n",
        "  if temp < 0:\n",
        "    print(\"Freezing\")\n",
        "  elif temp <= 15:\n",
        "    print(\"Cold\")\n",
        "  elif temp <= 25:\n",
        "    print(\"Mild\")\n",
        "  elif temp <= 32:\n",
        "    print(\"Warm\")\n",
        "  else: print (\"Hot\")\n",
        "\n",
        "except ValueError:\n",
        "  print(\"Invalid input\")\n"
      ]
    },
    {
      "cell_type": "markdown",
      "id": "904b40ac",
      "metadata": {
        "id": "904b40ac"
      },
      "source": [
        "\n",
        "## 5) Street parking rules\n",
        "\n",
        "**Prompt**  \n",
        "Ask for **day** (`\"mon\"...\"sun\"`), **hour** (0–23), and **holiday** (`\"y\"/\"n\"`).  \n",
        "- **No parking** on weekdays during rush hours: 7–10 and 16–19, **unless** it is a holiday.  \n",
        "- Parking is allowed at all other times (including weekends).\n",
        "\n",
        "**Your task**  \n",
        "- Validate inputs.  \n",
        "- Print exactly `\"Parking allowed\"` **or** `\"No parking\"`.\n",
        "\n",
        "*Gentle hint:* Consider booleans like `is_weekday = day in {...}` and `rush = (7 <= hour <= 10) or (16 <= hour <= 19)`.\n"
      ]
    },
    {
      "cell_type": "code",
      "execution_count": 31,
      "id": "ccbba117",
      "metadata": {
        "colab": {
          "base_uri": "https://localhost:8080/"
        },
        "id": "ccbba117",
        "outputId": "be0a7709-4171-469d-d7e8-775f231fa585"
      },
      "outputs": [
        {
          "output_type": "stream",
          "name": "stdout",
          "text": [
            "Enter the day: sun\n",
            "Enter the hour: 20\n",
            "Is it a holiday(y/n)? n\n",
            "Parking allowed\n"
          ]
        }
      ],
      "source": [
        "\n",
        "# YOUR CODE HERE\n",
        "try:\n",
        "  day = input(\"Enter the day: \").strip().lower()\n",
        "  hour = int(input(\"Enter the hour: \"))\n",
        "  holiday = input(\"Is it a holiday(y/n)? \").strip().lower()\n",
        "# 1) Validate day/hour/holiday\n",
        "  if day not in [\"mon\", \"tue\", \"wed\", \"thu\", \"fri\", \"sat\", \"sun\"]:\n",
        "    raise ValueError(\"Day must be between mon and sun\")\n",
        "  if hour < 0 or hour > 23:\n",
        "    raise ValueError(\"Hour must be between 0 and 23\")\n",
        "  if holiday not in [\"y\", \"n\"]:\n",
        "    raise ValueError(\"Holiday must be 'y' or 'n'\")\n",
        "# 2) Decide and print the exact message\n",
        "  if day == (\"sat\" or \"sun\") or holiday == \"y\":\n",
        "    print(\"Parking allowed\")\n",
        "  elif (7 <= hour <= 10) or (16 <= hour <= 19):\n",
        "    print(\"No parking\")\n",
        "  else:\n",
        "    print(\"Parking allowed\")\n",
        "\n",
        "except ValueError:\n",
        "  print(\"Invalid input\")\n"
      ]
    },
    {
      "cell_type": "markdown",
      "id": "5dc3c3fa",
      "metadata": {
        "id": "5dc3c3fa"
      },
      "source": [
        "\n",
        "## 6) Grade with curve boundaries\n",
        "\n",
        "**Prompt**  \n",
        "Ask for **raw** (float, 0–100) and **curve** (int, can be negative).  \n",
        "- Compute `final = raw + curve`.  \n",
        "- Clamp to [0, 100].  \n",
        "- Print a single letter:\n",
        "  - `>= 90`: `\"A\"`\n",
        "  - `80–89`: `\"B\"`\n",
        "  - `70–79`: `\"C\"`\n",
        "  - `60–69`: `\"D\"`\n",
        "  - else: `\"F\"`\n",
        "\n",
        "**Your task**  \n",
        "- Validate inputs; clamp carefully; print one letter.\n",
        "\n",
        "*Gentle hint:* After adding, use small checks like `if final < 0: final = 0`.\n"
      ]
    },
    {
      "cell_type": "code",
      "execution_count": 32,
      "id": "0598e54f",
      "metadata": {
        "colab": {
          "base_uri": "https://localhost:8080/"
        },
        "id": "0598e54f",
        "outputId": "61eb56e0-eb3a-42e8-a5bb-c1242b8a1c27"
      },
      "outputs": [
        {
          "output_type": "stream",
          "name": "stdout",
          "text": [
            "Enter the raw grade: 67\n",
            "Enter the curve: 7\n",
            "C\n"
          ]
        }
      ],
      "source": [
        "\n",
        "# YOUR CODE HERE\n",
        "try:\n",
        "  raw = float(input(\"Enter the raw grade: \"))\n",
        "  curve = int(input(\"Enter the curve: \"))\n",
        "# 1) Validate raw/curve\n",
        "  if raw < 0 or raw > 100:\n",
        "    raise ValueError(\"Raw grade must be between 0 and 100\")\n",
        "# 2) Clamp 0..100\n",
        "  final = raw + curve\n",
        "  if final < 0:\n",
        "    final = 0\n",
        "  elif final > 100:\n",
        "    final = 100\n",
        "# 3) Print one letter\n",
        "  if final >= 90:\n",
        "    print(\"A\")\n",
        "  elif final >= 80:\n",
        "    print(\"B\")\n",
        "  elif final >= 70:\n",
        "    print(\"C\")\n",
        "  elif final >= 60:\n",
        "    print(\"D\")\n",
        "  else:\n",
        "    print(\"F\")\n",
        "\n",
        "except ValueError:\n",
        "  print(\"Invalid input\")\n"
      ]
    },
    {
      "cell_type": "markdown",
      "id": "87c88705",
      "metadata": {
        "id": "87c88705"
      },
      "source": [
        "\n",
        "## 7) Palindrome (straight‑line, no loops)\n",
        "\n",
        "**Prompt**  \n",
        "Ask for **text** (string). Normalize by stripping outer spaces and lowercasing.  \n",
        "If the text reads the same forwards and backwards, print `\"Palindrome\"`; otherwise, print `\"Not palindrome\"`.\n",
        "\n",
        "**Your task**  \n",
        "- No loops needed; slicing is okay (`[::-1]`).  \n",
        "- Keep messages exact.\n",
        "\n",
        "*Gentle hint:* Compare the normalized string to its reversed version.\n",
        "\n",
        "** Support **\n",
        "A palindrome check can be done with just string basics:\n",
        "\n",
        "- .strip() → remove spaces at the edges\n",
        "\n",
        "- .lower() → normalize case\n",
        "\n",
        "- [::-1] → reverses the string\n",
        "- example of string reversal :  my_str == \"cat\" then my_str[::-1] == \"tac\"\n",
        "- my_str_reveresed = my_str[::-1]\n"
      ]
    },
    {
      "cell_type": "code",
      "execution_count": 33,
      "id": "f3a3d82a",
      "metadata": {
        "colab": {
          "base_uri": "https://localhost:8080/"
        },
        "id": "f3a3d82a",
        "outputId": "0626fbb1-a2c3-4aba-a7d9-d07f74351d48"
      },
      "outputs": [
        {
          "output_type": "stream",
          "name": "stdout",
          "text": [
            "Enter a text: firetruck\n",
            "Not palindrome\n"
          ]
        }
      ],
      "source": [
        "\n",
        "# YOUR CODE HERE\n",
        "text = input(\"Enter a text: \").strip().lower()\n",
        "# 1) Read and normalize text\n",
        "# 2) Compare to reversed and print the message\n",
        "if text == text[::-1]:\n",
        "  print(\"Palindrome\")\n",
        "else:\n",
        "  print(\"Not palindrome\")"
      ]
    },
    {
      "cell_type": "markdown",
      "id": "2953a6f6",
      "metadata": {
        "id": "2953a6f6"
      },
      "source": [
        "\n",
        "## 8) Function practice — `is_palindrome(text) -> bool\n",
        "\n",
        "You’ll write a **small** helper function, then use it.  \n",
        "It’s okay if functions are new — follow the scaffold and you’ll be fine!\n",
        "\n",
        "**Steps**\n",
        "1. Implement `is_palindrome(text)` that returns `True` if `text.strip().lower()` equals its reversed version, else `False`.\n",
        "2. Then, outside the function, prompt the user and print `\"Palindrome\"` or `\"Not palindrome\"` based on the function’s result.\n",
        "\n",
        "*Gentle hint:* Start by writing the function body with a placeholder `return False`, then improve it.\n"
      ]
    },
    {
      "cell_type": "code",
      "execution_count": 34,
      "id": "b9986d4a",
      "metadata": {
        "id": "b9986d4a",
        "outputId": "eac5f0b4-b37b-41b9-f2d5-a88b3a6e180b",
        "colab": {
          "base_uri": "https://localhost:8080/"
        }
      },
      "outputs": [
        {
          "output_type": "stream",
          "name": "stdout",
          "text": [
            "Enter a text: racecar\n",
            "Palindrome\n"
          ]
        }
      ],
      "source": [
        "\n",
        "def is_palindrome(text):\n",
        "    \"\"\"Return True if text is a palindrome after strip+lower, else False.\"\"\"\n",
        "    # TODO: normalize text (strip + lower)\n",
        "    text = text.strip().lower()\n",
        "    # TODO: compare with reversed (slicing is ok)\n",
        "    if text == text[::-1]:\n",
        "      return True\n",
        "    return False\n",
        "    # TODO: return True/False\n",
        "\n",
        "# YOUR CODE HERE\n",
        "# 1) Prompt for input\n",
        "input_text = input(\"Enter a text: \")\n",
        "# 2) Call is_palindrome and print the correct message\n",
        "if is_palindrome(input_text):\n",
        "  print(\"Palindrome\")\n",
        "else:\n",
        "  print(\"Not palindrome\")\n"
      ]
    },
    {
      "cell_type": "markdown",
      "id": "8e72d89c",
      "metadata": {
        "id": "8e72d89c"
      },
      "source": [
        "\n",
        "## 9) Function practice — `parking_allowed(day, hour, holiday) -> bool`\n",
        "\n",
        "Let’s package the parking policy into a small function and then use it.\n",
        "\n",
        "**Policy reminder**  \n",
        "- **No parking** on weekdays during 7–10 and 16–19, **unless** it is a holiday.  \n",
        "- Parking is allowed at all other times (including weekends).\n",
        "\n",
        "**Steps**\n",
        "1. Implement `parking_allowed(day, hour, holiday)` so it returns `True` when parking is allowed, `False` otherwise.\n",
        "2. Then prompt for inputs, **validate them**, and print `\"Parking allowed\"` or `\"No parking\"`.\n",
        "\n",
        "*Gentle hint:* Booleans like `is_weekday` and `rush` make your `if` very readable.\n"
      ]
    },
    {
      "cell_type": "code",
      "execution_count": 36,
      "id": "11240051",
      "metadata": {
        "id": "11240051",
        "colab": {
          "base_uri": "https://localhost:8080/"
        },
        "outputId": "5dafb891-8be1-476c-8b34-62ef3301d560"
      },
      "outputs": [
        {
          "output_type": "stream",
          "name": "stdout",
          "text": [
            "Enter the day: sun\n",
            "Enter the hour: 20\n",
            "Is it a holiday(y/n)? n\n",
            "Parking allowed\n"
          ]
        }
      ],
      "source": [
        "def parking_allowed(day, hour, holiday):\n",
        "    \"\"\"Return True if parking is allowed under the policy; else False.\n",
        "    day: 'mon'..'sun', hour: 0..23, holiday: 'y' or 'n'\n",
        "    \"\"\"\n",
        "    # TODO: implement using and/or/not\n",
        "    if day == (\"sat\" or \"sun\") or holiday == \"y\":\n",
        "      return True\n",
        "    elif (7 <= hour <= 10) or (16 <= hour <= 19):\n",
        "      return False\n",
        "    else:\n",
        "      return True\n",
        "\n",
        "# YOUR CODE HERE\n",
        "# 1) Prompt and validate inputs\n",
        "try:\n",
        "  day = input(\"Enter the day: \").strip().lower()\n",
        "  if day not in [\"mon\", \"tue\", \"wed\", \"thu\", \"fri\", \"sat\", \"sun\"]:\n",
        "    print(\"Day must be between mon and sun\")\n",
        "    raise ValueError(\"Day must be between mon and sun\")\n",
        "  hour = int(input(\"Enter the hour: \"))\n",
        "  if hour < 0 or hour > 23:\n",
        "    print(\"Hour must be between 0 and 23\")\n",
        "    raise ValueError(\"Hour must be between 0 and 23\")\n",
        "  holiday = input(\"Is it a holiday(y/n)? \").strip().lower()\n",
        "  if holiday not in [\"y\", \"n\"]:\n",
        "    print(\"Holiday must be 'y' or 'n'\")\n",
        "    raise ValueError(\"Holiday must be 'y' or 'n'\")\n",
        "  if parking_allowed(day, hour, holiday):\n",
        "    print(\"Parking allowed\")\n",
        "  else:\n",
        "    print(\"No parking\")\n",
        "except ValueError:\n",
        "  print(\"Invalid input\")\n",
        "# 2) Call parking_allowed and print the exact message\n"
      ]
    },
    {
      "cell_type": "markdown",
      "id": "8a8cef39",
      "metadata": {
        "id": "8a8cef39"
      },
      "source": [
        "\n",
        "## 10) Mini‑Project (No Loops): Cinema Entry & Pricing Decision Engine\n",
        "\n",
        "This is a friendly, single‑run decision engine — no loops needed. You’ll determine **entry permission** and a **final ticket price** based on the rules.\n",
        "\n",
        "**Inputs to gather and validate (in this order)**  \n",
        "1. **age** (int, 0–120)  \n",
        "2. **day** (`mon, tue, wed, thu, fri, sat, sun`)  \n",
        "3. **hour** (int 0–23) — cinema is open to **everyone** 10–22 inclusive; **members only** at 9 and 23  \n",
        "4. **holiday** (`y/n`)  \n",
        "5. **member** (`y/n`)  \n",
        "6. **student** (`y/n`)  \n",
        "7. **base_price** (float ≥ 0)  \n",
        "8. **coupon10** (`y/n`)  \n",
        "9. **coupon15** (`y/n`)\n",
        "\n",
        "**Access Policy**  \n",
        "- If holiday → `\"Entry allowed\"` any time.  \n",
        "- Otherwise:  \n",
        "  - 10–22 → `\"Entry allowed\"`  \n",
        "  - 9 or 23 → `\"Entry allowed (members only hours)\"` **if** member is `\"y\"`; otherwise `\"Closed\"`  \n",
        "  - All other hours → `\"Closed\"`  \n",
        "If closed, print the access message and stop.\n",
        "\n",
        "**Discounts (apply at most one in this order)**  \n",
        "1) If both coupons are `\"y\"` → print `\"Invalid: cannot stack\"` and **do not use any coupon** (you may still use age/student/member rule below).  \n",
        "2) Else if `coupon15 == \"y\"` and `base_price >= 80` → 15% off.  \n",
        "3) Else if `coupon10 == \"y\"` and `base_price >= 50` → 10% off.  \n",
        "4) Else if age < 12 or age >= 65 → 20% off.  \n",
        "5) Else if student == \"y\" or member == \"y\" → 10% off.  \n",
        "6) Else → no discount.\n",
        "\n",
        "**Output**  \n",
        "- Print the entry result first. If allowed, print a **pricing summary** (base, discount applied, final) with two decimals using f‑strings.\n",
        "\n",
        "*Gentle hints*  \n",
        "- Create helpful booleans like `is_holiday`, `is_member`, etc.  \n",
        "- Use `f\"{price:.2f}\"` for two decimal places.  \n",
        "- Take your time, and test a few scenarios to see each branch work.\n"
      ]
    },
    {
      "cell_type": "code",
      "execution_count": 37,
      "id": "b51d7e1b",
      "metadata": {
        "id": "b51d7e1b",
        "colab": {
          "base_uri": "https://localhost:8080/"
        },
        "outputId": "3f679006-41b8-4ad0-e303-9ea44a0b03db"
      },
      "outputs": [
        {
          "output_type": "stream",
          "name": "stdout",
          "text": [
            "Enter your age: 18\n",
            "Enter the day(mon, tue, wed, thu, fri, sat, sun): sun\n",
            "Enter the hour: 20\n",
            "Is it a holiday(y/n)? n\n",
            "Are you a member(y/n)? n\n",
            "Are you a student(y/n)? y\n",
            "Enter the base price: 67\n",
            "Do you have coupon10(y/n)? n\n",
            "Do you have coupon15(y/n)? n\n",
            "Base price: 67.0\n",
            "Discount applied: 0.9\n",
            "Final price: 60.30\n"
          ]
        }
      ],
      "source": [
        "try:\n",
        "  age=int(input(\"Enter your age: \"))\n",
        "  if age < 0 or age > 120:\n",
        "    print (\"Age must be between 0 and 120\")\n",
        "    raise ValueError(\"Age must be between 0 and 120\")\n",
        "  day=input(\"Enter the day(mon, tue, wed, thu, fri, sat, sun): \").strip().lower()\n",
        "  if day not in [\"mon\", \"tue\", \"wed\", \"thu\", \"fri\", \"sat\", \"sun\"]:\n",
        "    print (\"Day must be between mon and sun\")\n",
        "    raise ValueError(\"Day must be between mon and sun\")\n",
        "  hour=int(input(\"Enter the hour: \"))\n",
        "  if hour < 0 or hour > 23:\n",
        "    print (\"Hour must be between 0 and 23\")\n",
        "    raise ValueError(\"Hour must be between 0 and 23\")\n",
        "  holiday=input(\"Is it a holiday(y/n)? \").strip().lower()\n",
        "  if holiday not in [\"y\", \"n\"]:\n",
        "    print (\"Holiday must be 'y' or 'n'\")\n",
        "    raise ValueError(\"Holiday must be 'y' or 'n'\")\n",
        "  member=input(\"Are you a member(y/n)? \").strip().lower()\n",
        "  if member not in [\"y\", \"n\"]:\n",
        "    print (\"Member must be 'y' or 'n'\")\n",
        "    raise ValueError(\"Member must be 'y' or 'n'\")\n",
        "  student=input(\"Are you a student(y/n)? \").strip().lower()\n",
        "  if student not in [\"y\", \"n\"]:\n",
        "    print (\"Student must be 'y' or 'n'\")\n",
        "    raise ValueError(\"Student must be 'y' or 'n'\")\n",
        "  base_price=float(input(\"Enter the base price: \"))\n",
        "  if base_price < 0:\n",
        "    print (\"Base price must be greater than 0\")\n",
        "    raise ValueError(\"Base price must be greater than 0\")\n",
        "  coupon10=input(\"Do you have coupon10(y/n)? \").strip().lower()\n",
        "  if coupon10 not in [\"y\", \"n\"]:\n",
        "    print (\"Coupon10 must be 'y' or 'n'\")\n",
        "    raise ValueError(\"Coupon10 must be 'y' or 'n'\")\n",
        "  coupon15=input(\"Do you have coupon15(y/n)? \").strip().lower()\n",
        "  if coupon15 not in [\"y\", \"n\"]:\n",
        "    print (\"Coupon15 must be 'y' or 'n'\")\n",
        "    raise ValueError(\"Coupon15 must be 'y' or 'n'\")\n",
        "except ValueError:\n",
        "  print(\"Invalid input\")\n",
        "\n",
        "# 2) Decide entry\n",
        "def cinema_entry(day, hour, holiday) -> bool:\n",
        "  if holiday == \"y\":\n",
        "    return True\n",
        "  elif hour >= 10 and hour <= 22:\n",
        "    return True\n",
        "  elif hour == 9 or hour == 23:\n",
        "    if member == \"y\":\n",
        "      return True\n",
        "  else:\n",
        "    return False\n",
        "\n",
        "# 3) If allowed, apply the discount rules in the given order (at most one discount category)\n",
        "def discount(base_price, coupon10, coupon15, age, student, member) -> float:\n",
        "  if coupon10 == \"y\" and coupon15 == \"y\":\n",
        "    print(\"Invalid: cannot stack\")\n",
        "    return 100\n",
        "  elif coupon15 == \"y\" and base_price >= 80:\n",
        "    return 0.85\n",
        "  elif coupon10 == \"y\" and base_price >= 50:\n",
        "    return 0.9\n",
        "  elif age < 12 or age >= 65:\n",
        "    return 0.8\n",
        "  elif student == \"y\" or member == \"y\":\n",
        "    return 0.9\n",
        "  else:\n",
        "    return 100\n",
        "\n",
        "def format_currency(base_price):\n",
        "  return f\"{base_price:.2f}\"\n",
        "\n",
        "discount_price = base_price\n",
        "\n",
        "if cinema_entry(day, hour, holiday):\n",
        "  discount_percent = discount(base_price, coupon10, coupon15, age, student, member)\n",
        "\n",
        "  print(f\"Base price: {base_price}\")\n",
        "  if discount_price != 100:\n",
        "    print(f\"Discount applied: {discount_percent}\")\n",
        "  else:\n",
        "    print(\"No discount applied\")\n",
        "  # 4) Print a clear summary with two-decimal formatting\n",
        "\n",
        "  print(f\"Final price: {format_currency(base_price * discount_percent)}\")\n",
        "else:\n",
        "  print(\"Cinema is closed.\")"
      ]
    },
    {
      "cell_type": "markdown",
      "id": "ca529e29",
      "metadata": {
        "id": "ca529e29"
      },
      "source": [
        "\n",
        "---\n",
        "\n",
        "### You’re doing great 💫\n",
        "Remember: learning conditionals is about clear thinking and small steps.  \n",
        "Celebrate each little win, and don’t hesitate to re-run cells as you refine your code.\n"
      ]
    }
  ],
  "metadata": {
    "kernelspec": {
      "display_name": "Python 3",
      "language": "python",
      "name": "python3"
    },
    "language_info": {
      "name": "python",
      "version": "3.x"
    },
    "colab": {
      "provenance": []
    }
  },
  "nbformat": 4,
  "nbformat_minor": 5
}